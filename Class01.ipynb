{
  "nbformat": 4,
  "nbformat_minor": 0,
  "metadata": {
    "colab": {
      "provenance": [],
      "authorship_tag": "ABX9TyPivCVJBaPiQwE73z6mdrdi",
      "include_colab_link": true
    },
    "kernelspec": {
      "name": "python3",
      "display_name": "Python 3"
    },
    "language_info": {
      "name": "python"
    }
  },
  "cells": [
    {
      "cell_type": "markdown",
      "metadata": {
        "id": "view-in-github",
        "colab_type": "text"
      },
      "source": [
        "<a href=\"https://colab.research.google.com/github/guilhermelaviola/IntegratingPracticesInDataScienceForBusiness/blob/main/Class01.ipynb\" target=\"_parent\"><img src=\"https://colab.research.google.com/assets/colab-badge.svg\" alt=\"Open In Colab\"/></a>"
      ]
    },
    {
      "cell_type": "markdown",
      "source": [
        "# **Applying Data Science to Business**\n",
        "Businesses are constantly involved with data, information, and knowledge. Managing and analyzing this data efficiently is essential. Data science is interdisciplinary, encompassing areas such as engineering, management, healthcare, and education, always seeking to optimize the process of data capture and transformation. Transforming structured data into information is essential, and this information is an input for knowledge. In the business context, data analysis techniques are used to ensure the efficiency of operations. Statistical techniques, for example, are incorporated to provide more accurate analysis. Descriptive data analysis helps us visualize important information, such as monthly sales compared to the previous year, or customer perceptions of products and services."
      ],
      "metadata": {
        "id": "p4VdcThqp2Is"
      }
    },
    {
      "cell_type": "markdown",
      "source": [
        "## **Challenge**\n",
        "\n",
        "A tire factory wants to optimize its production and improve operational efficiency. They face challenges in demand forecasting, inventory management, and predictive equipment maintenance."
      ],
      "metadata": {
        "id": "_cHSS3up7CKy"
      }
    },
    {
      "cell_type": "code",
      "source": [
        "# Importing all the necessary libraries:\n",
        "import pandas as pd\n",
        "import matplotlib.pyplot as plt\n",
        "from sklearn.ensemble import RandomForestRegressor\n",
        "import numpy as np\n",
        "from statsmodels.tsa.arima.model import ARIMA"
      ],
      "metadata": {
        "id": "N5zO4r7b3BB1"
      },
      "execution_count": 1,
      "outputs": []
    },
    {
      "cell_type": "markdown",
      "source": [
        "## **Data Collection**\n",
        "\n",
        "The factory begins to collect data from various sources, such as: sales history; equipment maintenance data; real-time production data; customer feedback."
      ],
      "metadata": {
        "id": "3Tai3hOG3XEv"
      }
    },
    {
      "cell_type": "markdown",
      "source": [
        "## **Data Transformation**\n",
        "\n",
        "The collected data is then transformed and cleaned using pre-processing techniques. For example, using the Pandas library in Python, the data is organized into DataFrames, columns are added, and data is sorted to facilitate analysis."
      ],
      "metadata": {
        "id": "mVinHlYG3l-g"
      }
    },
    {
      "cell_type": "code",
      "execution_count": 2,
      "metadata": {
        "colab": {
          "base_uri": "https://localhost:8080/"
        },
        "id": "-aN9peaN2bjK",
        "outputId": "65e348bf-5526-40f0-88b8-25513d628535"
      },
      "outputs": [
        {
          "output_type": "stream",
          "name": "stdout",
          "text": [
            "         Date  Production  Defects   Mintenance  Accumulated Production\n",
            "0  2024-01-01         100        2      Regular                     100\n",
            "1  2024-01-02         150        1   Preventive                     250\n",
            "2  2024-01-03         200        3  Emergencial                     450\n"
          ]
        }
      ],
      "source": [
        "# Creating a DataFrame with fictional data:\n",
        "data = {\n",
        "    'Date': ['2024-01-01', '2024-01-02', '2024-01-03'],\n",
        "    'Production': [100, 150, 200],\n",
        "    'Defects': [2, 1, 3],\n",
        "    'Mintenance': ['Regular', 'Preventive', 'Emergencial']\n",
        "}\n",
        "\n",
        "df = pd.DataFrame(data)\n",
        "\n",
        "df['Accumulated Production'] = df['Production'].cumsum()\n",
        "\n",
        "print(df)"
      ]
    },
    {
      "cell_type": "markdown",
      "source": [
        "## **Data Analysis**\n",
        "\n",
        "Using descriptive and predictive analytics techniques, the factory can identify patterns and trends. For example, time series analysis can help predict future demand."
      ],
      "metadata": {
        "id": "RqCrMHof3hRs"
      }
    },
    {
      "cell_type": "markdown",
      "source": [
        "## **Data Visualization**\n",
        "\n",
        "Charts and dashboards are created to visualize data and facilitate decision making. Tools such as Matplotlib or Seaborn in Python can be used to create bar charts, line charts, and other types of visualizations."
      ],
      "metadata": {
        "id": "iWJUt9ZZ37Wb"
      }
    },
    {
      "cell_type": "code",
      "source": [
        "# Bar graph example:\n",
        "plt.bar(df['Date'], df['Production'])\n",
        "plt.xlabel('Date')\n",
        "plt.ylabel('Production')\n",
        "plt.title('Daily Production of Tires')\n",
        "plt.show()"
      ],
      "metadata": {
        "colab": {
          "base_uri": "https://localhost:8080/",
          "height": 472
        },
        "id": "uLO7qQ9W32lb",
        "outputId": "1c981012-7518-40df-c300-1c84be6e8cd2"
      },
      "execution_count": 3,
      "outputs": [
        {
          "output_type": "display_data",
          "data": {
            "text/plain": [
              "<Figure size 640x480 with 1 Axes>"
            ],
            "image/png": "[encoded data removed]"
          },
          "metadata": {}
        }
      ]
    },
    {
      "cell_type": "markdown",
      "source": [
        "## **Benefits**\n",
        "\n",
        "- **Process Optimization:** The factory can identify bottlenecks in production and optimize workflow.\n",
        "- **Personalization:** By better understanding demand, the factory can adjust production according to market needs.\n",
        "- **Improved Decision Making:** Clearly visualized data enables faster, more informed decisions."
      ],
      "metadata": {
        "id": "4EoFh8mF4hLs"
      }
    },
    {
      "cell_type": "markdown",
      "source": [
        "## **Implementing Predictive Models**\n",
        "\n",
        "To further improve operational efficiency, the tire plant implements predictive models that help anticipate problems and optimize processes.\n",
        "\n",
        "- **Predictive Maintenance:** Using machine learning algorithms, the plant can predict when equipment will need maintenance, reducing downtime and avoiding unexpected failures.\n",
        "- **Demand Forecasting:** With time series analysis, the factory can predict future tire demand, adjusting production and inventory accordingly. This allows for quick response to market changes and prevents product surpluses or shortages."
      ],
      "metadata": {
        "id": "DFnby-Vf4rrY"
      }
    },
    {
      "cell_type": "code",
      "source": [
        "# Fictional data of failures and maintenance:\n",
        "X = np.array([[1, 100], [2, 150], [3, 200], [4, 250], [5, 300]])  # Example: [Days since the last maintenance, Production]\n",
        "y = np.array([0, 0, 1, 0, 1])  # 1 indicates failure, 0 indicates no failure\n",
        "\n",
        "# Trraining the model\n",
        "model = RandomForestRegressor()\n",
        "model.fit(X, y)\n",
        "\n",
        "# Prediction:\n",
        "new_production = np.array([[6, 350]])  # Example: 6 days since the last maintenance and production of 350 tires\n",
        "prediction = model.predict(new_production)\n",
        "print('Failure probability:', prediction)"
      ],
      "metadata": {
        "colab": {
          "base_uri": "https://localhost:8080/"
        },
        "id": "8OSdyidI4-5W",
        "outputId": "fd9af6db-0b0c-4f60-9108-60ebdfd346f7"
      },
      "execution_count": 4,
      "outputs": [
        {
          "output_type": "stream",
          "name": "stdout",
          "text": [
            "Failure probability: [0.8]\n"
          ]
        }
      ]
    },
    {
      "cell_type": "code",
      "source": [
        "# Fictional sales data:\n",
        "sales = [100, 150, 200, 250, 300, 350, 400, 450]\n",
        "\n",
        "# ARIMA model:\n",
        "arima_model = ARIMA(sales, order=(5, 1, 0))\n",
        "model_fit = arima_model.fit()\n",
        "predictions = model_fit.forecast(steps=3)[0]\n",
        "\n",
        "print('Demand forecast for the next 3 days:', predictions)"
      ],
      "metadata": {
        "colab": {
          "base_uri": "https://localhost:8080/"
        },
        "id": "aO8SXyd_526_",
        "outputId": "da2e99be-a3bb-4233-f558-f8c1c09ed2dc"
      },
      "execution_count": 5,
      "outputs": [
        {
          "output_type": "stream",
          "name": "stderr",
          "text": [
            "/usr/local/lib/python3.11/dist-packages/statsmodels/tsa/statespace/sarimax.py:966: UserWarning: Non-stationary starting autoregressive parameters found. Using zeros as starting parameters.\n",
            "  warn('Non-stationary starting autoregressive parameters'\n"
          ]
        },
        {
          "output_type": "stream",
          "name": "stdout",
          "text": [
            "Demand forecast for the next 3 days: 499.9999988317634\n"
          ]
        },
        {
          "output_type": "stream",
          "name": "stderr",
          "text": [
            "/usr/local/lib/python3.11/dist-packages/statsmodels/base/model.py:607: ConvergenceWarning: Maximum Likelihood optimization failed to converge. Check mle_retvals\n",
            "  warnings.warn(\"Maximum Likelihood optimization failed to \"\n"
          ]
        }
      ]
    },
    {
      "cell_type": "markdown",
      "source": [
        "## **Reports and Dashboards**\n",
        "\n",
        "To ensure that all stakeholders in the factory have access to relevant information, interactive reports and dashboards are created that present data in a clear and concise manner.\n",
        "\n",
        "## **Dashboard Example:**\n",
        "### **Description**\n",
        "- **Line Chart:** Shows the production trend over time.\n",
        "- **Bar Chart:** Compares daily production and the number of defects.\n",
        "- **Table:** Displays detailed maintenance and production data."
      ],
      "metadata": {
        "id": "K2FyNA_j6VD8"
      }
    },
    {
      "cell_type": "markdown",
      "source": [
        "## **Results Obtained**\n",
        "\n",
        "By implementing data science, the tire factory was able to:\n",
        "\n",
        "- Reduce equipment downtime by 30%, thanks to predictive maintenance.\n",
        "- Increase demand forecast accuracy by 20%, better adjusting production to the market.\n",
        "- Improve customer satisfaction by ensuring a constant supply of products and customization according to market needs.\n",
        "\n",
        "This practical example demonstrates how data science can be applied in a real-world context to transform raw data into valuable insights, optimizing processes and improving strategic decision-making. The integration of analytical and predictive techniques allows companies to respond quickly to market changes and maintain efficient and competitive operations."
      ],
      "metadata": {
        "id": "8Sey1a_46yfz"
      }
    }
  ]
}