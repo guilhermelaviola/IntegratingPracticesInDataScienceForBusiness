{
  "nbformat": 4,
  "nbformat_minor": 0,
  "metadata": {
    "colab": {
      "provenance": [],
      "authorship_tag": "ABX9TyMSpgEmzJ6FoLPeAH53lf/K",
      "include_colab_link": true
    },
    "kernelspec": {
      "name": "python3",
      "display_name": "Python 3"
    },
    "language_info": {
      "name": "python"
    }
  },
  "cells": [
    {
      "cell_type": "markdown",
      "metadata": {
        "id": "view-in-github",
        "colab_type": "text"
      },
      "source": [
        "<a href=\"https://colab.research.google.com/github/guilhermelaviola/IntegratingPracticesInDataScienceForBusiness/blob/main/Class08.ipynb\" target=\"_parent\"><img src=\"https://colab.research.google.com/assets/colab-badge.svg\" alt=\"Open In Colab\"/></a>"
      ]
    },
    {
      "cell_type": "markdown",
      "source": [
        "# **Data Metrics**"
      ],
      "metadata": {
        "id": "CnyveWkJ0IX5"
      }
    },
    {
      "cell_type": "code",
      "execution_count": 1,
      "metadata": {
        "id": "9IIrROzEypXM"
      },
      "outputs": [],
      "source": [
        "# Importing all the necessary libraries:\n",
        "import pandas as pd\n",
        "import numpy as np\n",
        "import matplotlib.pyplot as plt\n",
        "import seaborn as sns\n",
        "from sklearn.model_selection import train_test_split\n",
        "from sklearn.preprocessing import StandardScaler\n",
        "from sklearn.metrics import accuracy_score, precision_score, recall_score, f1_score, confusion_matrix, classification_report\n",
        "from xgboost import XGBClassifier"
      ]
    },
    {
      "cell_type": "code",
      "source": [
        "# Loading a dataset with fictional data:\n",
        "df = pd.read_csv('data.csv')"
      ],
      "metadata": {
        "id": "oiC8ehT90U5R"
      },
      "execution_count": null,
      "outputs": []
    },
    {
      "cell_type": "code",
      "source": [
        "# Pré-processamento dos dados\n",
        "df = df.dropna() # Removing null values\n",
        "X = df.drop('type', axis=1) # Predictor variables\n",
        "y = df['type'] # Target variable\n",
        "\n",
        "# Splitting the dataset into training and test data:\n",
        "X_train, X_test, y_train, y_test = train_test_split(X, y, test_size=0.2,  random_state=42)\n",
        "\n",
        "# Data standardization:\n",
        "scaler = StandardScaler()\n",
        "X_train = scaler.fit_transform(X_train)\n",
        "X_test = scaler.transform(X_test)\n",
        "\n",
        "# Creating the XGBoost Classification Model\n",
        "xgb_model = XGBClassifier(use_label_encoder=False, eval_metric='logloss')"
      ],
      "metadata": {
        "id": "Lz6ggf1X0lNu"
      },
      "execution_count": null,
      "outputs": []
    },
    {
      "cell_type": "code",
      "source": [
        "\n",
        "# Training the model:\n",
        "xgb_model.fit(X train, y train)\n",
        "\n",
        "# Predictions on the test data:\n",
        "predictions = xgb_model.predict(X_test)\n",
        "\n",
        "# Evaluating the model:\n",
        "accuracy = accuracy_score(y_test, predictions)\n",
        "precision = precision_score(y_test, predictions, average='weighted')\n",
        "recall = recall_score(y_test, predictions, average='weighted')\n",
        "f1 = f1_score(y_test, predictions, average='weighted')"
      ],
      "metadata": {
        "id": "D98qNo1p2suG"
      },
      "execution_count": null,
      "outputs": []
    },
    {
      "cell_type": "code",
      "source": [
        "# Displaying the results:\n",
        "print(f'Accuracy: {accuracy}')\n",
        "print(f'Precision: {precision}')\n",
        "print(f'Recall: (recall}')\n",
        "print(f'F1-Score: {f1}')\n",
        "print(f'Confusion Matrix:\\n{confusion_matrix(y_test, predictions)}')\n",
        "print(f'Classification Report:\\n{classification_report(y_test, predictions)}')"
      ],
      "metadata": {
        "id": "7DI-fkRK3SzG"
      },
      "execution_count": null,
      "outputs": []
    },
    {
      "cell_type": "code",
      "source": [
        "# Visualizing the Confusion Matrix:\n",
        "sns.heatmap(confusion_matrix(y_test, predictions), annot=True, fmt='d', cmap='Blues')\n",
        "plt.title('Confusion Matrix - XGBoost Classifier')\n",
        "plt.xlabel('Predictions')\n",
        "plt.ylabel('Real Values')\n",
        "plt.show()"
      ],
      "metadata": {
        "id": "AiwY3Hcb4AXZ"
      },
      "execution_count": null,
      "outputs": []
    }
  ]
}