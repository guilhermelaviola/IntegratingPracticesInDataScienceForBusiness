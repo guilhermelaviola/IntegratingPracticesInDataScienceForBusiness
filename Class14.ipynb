{
  "nbformat": 4,
  "nbformat_minor": 0,
  "metadata": {
    "colab": {
      "provenance": [],
      "authorship_tag": "ABX9TyMVM7X9oYr/SqKeXQXt2Ub0",
      "include_colab_link": true
    },
    "kernelspec": {
      "name": "python3",
      "display_name": "Python 3"
    },
    "language_info": {
      "name": "python"
    }
  },
  "cells": [
    {
      "cell_type": "markdown",
      "metadata": {
        "id": "view-in-github",
        "colab_type": "text"
      },
      "source": [
        "<a href=\"https://colab.research.google.com/github/guilhermelaviola/IntegratingPracticesInDataScienceForBusiness/blob/main/Class14.ipynb\" target=\"_parent\"><img src=\"https://colab.research.google.com/assets/colab-badge.svg\" alt=\"Open In Colab\"/></a>"
      ]
    },
    {
      "cell_type": "markdown",
      "source": [
        "# **Naive Bayes Algorithm**\n",
        "Naive Bayes is an algorithm that can be found in libraries like SKLearn and it's used to build machine learning models. It is based on Bayes theory, assuming that the attributes used to describe instances are independent of each other. This simplifying assumption allows Naive Bayes to be an effective probabilistic classifier, especially when there is a limited amount of data."
      ],
      "metadata": {
        "id": "jO306_c4TsKV"
      }
    },
    {
      "cell_type": "code",
      "execution_count": 1,
      "metadata": {
        "id": "4FKRvUzOTewT"
      },
      "outputs": [],
      "source": [
        "# Importing all the necessary libraries:\n",
        "import pandas as pd\n",
        "from sklearn.model_selection import train_test_split\n",
        "from sklearn.feature_extraction.text import CountVectorizer\n",
        "from sklearn.naive_bayes import MultinomialNB\n",
        "from sklearn.metrics import accuracy_score, precision_score, recall_score, f1_score, confusion_matrix\n",
        "import seaborn as sns\n",
        "import matplotlib.pyplot as plt"
      ]
    },
    {
      "cell_type": "code",
      "source": [
        "# Creating fictional data for study:\n",
        "data = {\n",
        "    'email': [\"Buy now\", \"Exclusive offer\", \"Hello, how are you?\", \"You just won a prize!\", \"Work meeting\"],\n",
        "    'isSpam': [1, 1, 0, 1, 0]\n",
        "    }"
      ],
      "metadata": {
        "id": "0la0G0WeUlxa"
      },
      "execution_count": 2,
      "outputs": []
    },
    {
      "cell_type": "code",
      "source": [
        "# Creating a DataFrame from the data above:\n",
        "df = pd.DataFrame(data)\n",
        "\n",
        "# Text vectorization:\n",
        "vectorizer = CountVectorizer()\n",
        "X = vectorizer.fit_transform(df['email'])\n",
        "\n",
        "# Dependent variable:\n",
        "y = df['isSpam']\n",
        "\n",
        "# Data splitting:\n",
        "X_train, X_test, y_train, y_test = train_test_split(X, y, test_size=0.2, random_state=42)"
      ],
      "metadata": {
        "id": "V7aIWWGVVEsJ"
      },
      "execution_count": 3,
      "outputs": []
    },
    {
      "cell_type": "code",
      "source": [
        "# Training the model:\n",
        "model = MultinomialNB()\n",
        "model.fit(X_train, y_train)\n",
        "\n",
        "# Evauating the model:\n",
        "y_pred = model.predict(X_test)\n",
        "accuracy = accuracy_score(y_test, y_pred)\n",
        "precision = precision_score(y_test, y_pred)\n",
        "recall = recall_score(y_test, y_pred)\n",
        "f1 = f1_score(y_test, y_pred)\n",
        "\n",
        "# Displaying metrics:\n",
        "print(f'Accuracy: {accuracy:.2f}')\n",
        "print(f'Precision: {precision:.2f}')\n",
        "print(f'Recall: {recall:.2f}')\n",
        "print(f'F1-score: {f1:.2f}')"
      ],
      "metadata": {
        "colab": {
          "base_uri": "https://localhost:8080/"
        },
        "id": "KY4PccSbV90s",
        "outputId": "a2038192-31fa-47b2-882f-71cca018b49a"
      },
      "execution_count": 4,
      "outputs": [
        {
          "output_type": "stream",
          "name": "stdout",
          "text": [
            "Accuracy: 0.00\n",
            "Precision: 0.00\n",
            "Recall: 0.00\n",
            "F1-score: 0.00\n"
          ]
        },
        {
          "output_type": "stream",
          "name": "stderr",
          "text": [
            "/usr/local/lib/python3.11/dist-packages/sklearn/metrics/_classification.py:1565: UndefinedMetricWarning: Precision is ill-defined and being set to 0.0 due to no predicted samples. Use `zero_division` parameter to control this behavior.\n",
            "  _warn_prf(average, modifier, f\"{metric.capitalize()} is\", len(result))\n"
          ]
        }
      ]
    },
    {
      "cell_type": "code",
      "source": [
        "# Confusion Matrix:\n",
        "cm = confusion_matrix(y_test, y_pred)\n",
        "sns.heatmap(cm, annot=True, fmt='d', cmap='Blues', xticklabels=['Non-Spam', 'Spam'], yticklabels=['Non-Spam', 'Spam'])\n",
        "plt.xlabel('Expected')\n",
        "plt.ylabel('Real')\n",
        "plt.title('Cinfusion Matrix')\n",
        "plt.show()"
      ],
      "metadata": {
        "colab": {
          "base_uri": "https://localhost:8080/",
          "height": 472
        },
        "id": "sL4i6X17WMh3",
        "outputId": "a2a26c83-a3e6-49a9-e364-7831252d112b"
      },
      "execution_count": 5,
      "outputs": [
        {
          "output_type": "display_data",
          "data": {
            "text/plain": [
              "<Figure size 640x480 with 2 Axes>"
            ],
            "image/png": "[encoded data removed]"
          },
          "metadata": {}
        }
      ]
    },
    {
      "cell_type": "markdown",
      "source": [
        "## **Conclusion**\n",
        "Applying Naive Bayes in business can be extremely useful in a variety of situations, such as spam filtering, document classification, and sentiment analysis. The step-by-step process for building and evaluating the model is relatively straightforward, but it requires attention to detail and a clear understanding of the data and performance metrics. We gotta keep in mind that the choice of algorithm depends on the nature of the data and the problem we are trying to solve. Naive Bayes is an excellent choice for problems where the assumption of conditional independence between variables is reasonable."
      ],
      "metadata": {
        "id": "9IPfT3CnWr78"
      }
    }
  ]
}