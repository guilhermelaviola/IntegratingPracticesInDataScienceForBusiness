{
  "nbformat": 4,
  "nbformat_minor": 0,
  "metadata": {
    "colab": {
      "provenance": [],
      "authorship_tag": "ABX9TyPgEs4JMPzRKeWlXrgVGpG2",
      "include_colab_link": true
    },
    "kernelspec": {
      "name": "python3",
      "display_name": "Python 3"
    },
    "language_info": {
      "name": "python"
    }
  },
  "cells": [
    {
      "cell_type": "markdown",
      "metadata": {
        "id": "view-in-github",
        "colab_type": "text"
      },
      "source": [
        "<a href=\"https://colab.research.google.com/github/guilhermelaviola/IntegratingPracticesInDataScienceForBusiness/blob/main/Class11.ipynb\" target=\"_parent\"><img src=\"https://colab.research.google.com/assets/colab-badge.svg\" alt=\"Open In Colab\"/></a>"
      ]
    },
    {
      "cell_type": "markdown",
      "source": [
        "# **Sentiment Analysis**\n",
        "Sentiment analysis is a crucial tool for identifying customer sentiment regarding products and services. By using phrases posted online, whether on social media or through web scraping, we can mine texts and use sentiment analysis algorithms to determine whether the content expresses positive, negative, or neutral sentiment. This process allows for a more automated understanding of customer behavior."
      ],
      "metadata": {
        "id": "l2aDDvPyP_oC"
      }
    },
    {
      "cell_type": "markdown",
      "source": [
        "## **Example with TextBlob:**\n",
        "Here we explore how the TextBlob library can be used for sentiment analysis through a practical example. TextBlob is a simple and easy-to-use library for processing textual data. It offers features such as sentiment analysis, translation, and grammar correction."
      ],
      "metadata": {
        "id": "G9bKsdjgSPzX"
      }
    },
    {
      "cell_type": "code",
      "source": [
        "!pip install spacytextblob"
      ],
      "metadata": {
        "id": "2L4kK6EJVa5g",
        "outputId": "c6e9cf3e-d843-4da5-c384-0e345ac2959b",
        "colab": {
          "base_uri": "https://localhost:8080/"
        }
      },
      "execution_count": 8,
      "outputs": [
        {
          "output_type": "stream",
          "name": "stdout",
          "text": [
            "Collecting spacytextblob\n",
            "  Downloading spacytextblob-5.0.0-py3-none-any.whl.metadata (4.8 kB)\n",
            "Requirement already satisfied: spacy>=3.0.0 in /usr/local/lib/python3.11/dist-packages (from spacytextblob) (3.8.7)\n",
            "Requirement already satisfied: textblob>=0.18.0.post0 in /usr/local/lib/python3.11/dist-packages (from spacytextblob) (0.19.0)\n",
            "Requirement already satisfied: spacy-legacy<3.1.0,>=3.0.11 in /usr/local/lib/python3.11/dist-packages (from spacy>=3.0.0->spacytextblob) (3.0.12)\n",
            "Requirement already satisfied: spacy-loggers<2.0.0,>=1.0.0 in /usr/local/lib/python3.11/dist-packages (from spacy>=3.0.0->spacytextblob) (1.0.5)\n",
            "Requirement already satisfied: murmurhash<1.1.0,>=0.28.0 in /usr/local/lib/python3.11/dist-packages (from spacy>=3.0.0->spacytextblob) (1.0.13)\n",
            "Requirement already satisfied: cymem<2.1.0,>=2.0.2 in /usr/local/lib/python3.11/dist-packages (from spacy>=3.0.0->spacytextblob) (2.0.11)\n",
            "Requirement already satisfied: preshed<3.1.0,>=3.0.2 in /usr/local/lib/python3.11/dist-packages (from spacy>=3.0.0->spacytextblob) (3.0.10)\n",
            "Requirement already satisfied: thinc<8.4.0,>=8.3.4 in /usr/local/lib/python3.11/dist-packages (from spacy>=3.0.0->spacytextblob) (8.3.6)\n",
            "Requirement already satisfied: wasabi<1.2.0,>=0.9.1 in /usr/local/lib/python3.11/dist-packages (from spacy>=3.0.0->spacytextblob) (1.1.3)\n",
            "Requirement already satisfied: srsly<3.0.0,>=2.4.3 in /usr/local/lib/python3.11/dist-packages (from spacy>=3.0.0->spacytextblob) (2.5.1)\n",
            "Requirement already satisfied: catalogue<2.1.0,>=2.0.6 in /usr/local/lib/python3.11/dist-packages (from spacy>=3.0.0->spacytextblob) (2.0.10)\n",
            "Requirement already satisfied: weasel<0.5.0,>=0.1.0 in /usr/local/lib/python3.11/dist-packages (from spacy>=3.0.0->spacytextblob) (0.4.1)\n",
            "Requirement already satisfied: typer<1.0.0,>=0.3.0 in /usr/local/lib/python3.11/dist-packages (from spacy>=3.0.0->spacytextblob) (0.16.0)\n",
            "Requirement already satisfied: tqdm<5.0.0,>=4.38.0 in /usr/local/lib/python3.11/dist-packages (from spacy>=3.0.0->spacytextblob) (4.67.1)\n",
            "Requirement already satisfied: numpy>=1.19.0 in /usr/local/lib/python3.11/dist-packages (from spacy>=3.0.0->spacytextblob) (2.0.2)\n",
            "Requirement already satisfied: requests<3.0.0,>=2.13.0 in /usr/local/lib/python3.11/dist-packages (from spacy>=3.0.0->spacytextblob) (2.32.3)\n",
            "Requirement already satisfied: pydantic!=1.8,!=1.8.1,<3.0.0,>=1.7.4 in /usr/local/lib/python3.11/dist-packages (from spacy>=3.0.0->spacytextblob) (2.11.7)\n",
            "Requirement already satisfied: jinja2 in /usr/local/lib/python3.11/dist-packages (from spacy>=3.0.0->spacytextblob) (3.1.6)\n",
            "Requirement already satisfied: setuptools in /usr/local/lib/python3.11/dist-packages (from spacy>=3.0.0->spacytextblob) (75.2.0)\n",
            "Requirement already satisfied: packaging>=20.0 in /usr/local/lib/python3.11/dist-packages (from spacy>=3.0.0->spacytextblob) (25.0)\n",
            "Requirement already satisfied: langcodes<4.0.0,>=3.2.0 in /usr/local/lib/python3.11/dist-packages (from spacy>=3.0.0->spacytextblob) (3.5.0)\n",
            "Requirement already satisfied: nltk>=3.9 in /usr/local/lib/python3.11/dist-packages (from textblob>=0.18.0.post0->spacytextblob) (3.9.1)\n",
            "Requirement already satisfied: language-data>=1.2 in /usr/local/lib/python3.11/dist-packages (from langcodes<4.0.0,>=3.2.0->spacy>=3.0.0->spacytextblob) (1.3.0)\n",
            "Requirement already satisfied: click in /usr/local/lib/python3.11/dist-packages (from nltk>=3.9->textblob>=0.18.0.post0->spacytextblob) (8.2.1)\n",
            "Requirement already satisfied: joblib in /usr/local/lib/python3.11/dist-packages (from nltk>=3.9->textblob>=0.18.0.post0->spacytextblob) (1.5.1)\n",
            "Requirement already satisfied: regex>=2021.8.3 in /usr/local/lib/python3.11/dist-packages (from nltk>=3.9->textblob>=0.18.0.post0->spacytextblob) (2024.11.6)\n",
            "Requirement already satisfied: annotated-types>=0.6.0 in /usr/local/lib/python3.11/dist-packages (from pydantic!=1.8,!=1.8.1,<3.0.0,>=1.7.4->spacy>=3.0.0->spacytextblob) (0.7.0)\n",
            "Requirement already satisfied: pydantic-core==2.33.2 in /usr/local/lib/python3.11/dist-packages (from pydantic!=1.8,!=1.8.1,<3.0.0,>=1.7.4->spacy>=3.0.0->spacytextblob) (2.33.2)\n",
            "Requirement already satisfied: typing-extensions>=4.12.2 in /usr/local/lib/python3.11/dist-packages (from pydantic!=1.8,!=1.8.1,<3.0.0,>=1.7.4->spacy>=3.0.0->spacytextblob) (4.14.1)\n",
            "Requirement already satisfied: typing-inspection>=0.4.0 in /usr/local/lib/python3.11/dist-packages (from pydantic!=1.8,!=1.8.1,<3.0.0,>=1.7.4->spacy>=3.0.0->spacytextblob) (0.4.1)\n",
            "Requirement already satisfied: charset-normalizer<4,>=2 in /usr/local/lib/python3.11/dist-packages (from requests<3.0.0,>=2.13.0->spacy>=3.0.0->spacytextblob) (3.4.2)\n",
            "Requirement already satisfied: idna<4,>=2.5 in /usr/local/lib/python3.11/dist-packages (from requests<3.0.0,>=2.13.0->spacy>=3.0.0->spacytextblob) (3.10)\n",
            "Requirement already satisfied: urllib3<3,>=1.21.1 in /usr/local/lib/python3.11/dist-packages (from requests<3.0.0,>=2.13.0->spacy>=3.0.0->spacytextblob) (2.5.0)\n",
            "Requirement already satisfied: certifi>=2017.4.17 in /usr/local/lib/python3.11/dist-packages (from requests<3.0.0,>=2.13.0->spacy>=3.0.0->spacytextblob) (2025.7.14)\n",
            "Requirement already satisfied: blis<1.4.0,>=1.3.0 in /usr/local/lib/python3.11/dist-packages (from thinc<8.4.0,>=8.3.4->spacy>=3.0.0->spacytextblob) (1.3.0)\n",
            "Requirement already satisfied: confection<1.0.0,>=0.0.1 in /usr/local/lib/python3.11/dist-packages (from thinc<8.4.0,>=8.3.4->spacy>=3.0.0->spacytextblob) (0.1.5)\n",
            "Requirement already satisfied: shellingham>=1.3.0 in /usr/local/lib/python3.11/dist-packages (from typer<1.0.0,>=0.3.0->spacy>=3.0.0->spacytextblob) (1.5.4)\n",
            "Requirement already satisfied: rich>=10.11.0 in /usr/local/lib/python3.11/dist-packages (from typer<1.0.0,>=0.3.0->spacy>=3.0.0->spacytextblob) (13.9.4)\n",
            "Requirement already satisfied: cloudpathlib<1.0.0,>=0.7.0 in /usr/local/lib/python3.11/dist-packages (from weasel<0.5.0,>=0.1.0->spacy>=3.0.0->spacytextblob) (0.21.1)\n",
            "Requirement already satisfied: smart-open<8.0.0,>=5.2.1 in /usr/local/lib/python3.11/dist-packages (from weasel<0.5.0,>=0.1.0->spacy>=3.0.0->spacytextblob) (7.3.0.post1)\n",
            "Requirement already satisfied: MarkupSafe>=2.0 in /usr/local/lib/python3.11/dist-packages (from jinja2->spacy>=3.0.0->spacytextblob) (3.0.2)\n",
            "Requirement already satisfied: marisa-trie>=1.1.0 in /usr/local/lib/python3.11/dist-packages (from language-data>=1.2->langcodes<4.0.0,>=3.2.0->spacy>=3.0.0->spacytextblob) (1.2.1)\n",
            "Requirement already satisfied: markdown-it-py>=2.2.0 in /usr/local/lib/python3.11/dist-packages (from rich>=10.11.0->typer<1.0.0,>=0.3.0->spacy>=3.0.0->spacytextblob) (3.0.0)\n",
            "Requirement already satisfied: pygments<3.0.0,>=2.13.0 in /usr/local/lib/python3.11/dist-packages (from rich>=10.11.0->typer<1.0.0,>=0.3.0->spacy>=3.0.0->spacytextblob) (2.19.2)\n",
            "Requirement already satisfied: wrapt in /usr/local/lib/python3.11/dist-packages (from smart-open<8.0.0,>=5.2.1->weasel<0.5.0,>=0.1.0->spacy>=3.0.0->spacytextblob) (1.17.2)\n",
            "Requirement already satisfied: mdurl~=0.1 in /usr/local/lib/python3.11/dist-packages (from markdown-it-py>=2.2.0->rich>=10.11.0->typer<1.0.0,>=0.3.0->spacy>=3.0.0->spacytextblob) (0.1.2)\n",
            "Downloading spacytextblob-5.0.0-py3-none-any.whl (4.2 kB)\n",
            "Installing collected packages: spacytextblob\n",
            "Successfully installed spacytextblob-5.0.0\n"
          ]
        }
      ]
    },
    {
      "cell_type": "code",
      "source": [
        "# Importing all the necessary libraries:\n",
        "from textblob import TextBlob\n",
        "import spacy\n",
        "from spacytextblob.spacytextblob import SpacyTextBlob\n",
        "from vaderSentiment.vaderSentiment import SentimentIntensityAnalyzer"
      ],
      "metadata": {
        "id": "Jo9BQaq1VBle"
      },
      "execution_count": 9,
      "outputs": []
    },
    {
      "cell_type": "code",
      "source": [
        "# Commments for analysis\n",
        "comments = [\n",
        "    \"I love the new product! It exceeded my expectations.\",\n",
        "    \"The product is good, but the price is too high.\",\n",
        "    \"Customer service was terrible.\",\n",
        "    \"Delivery was fast, but the product was poorly packaged.\"\n",
        "]"
      ],
      "metadata": {
        "id": "8Iu10qjjP_xj"
      },
      "execution_count": 10,
      "outputs": []
    },
    {
      "cell_type": "code",
      "source": [
        "# Analysing sentiments with TextBlob:\n",
        "for comment in comments:\n",
        "  blob = TextBlob(comment)\n",
        "  sentiment = blob.sentiment\n",
        "  print(f\"Comment: {comment}\")\n",
        "  print(f\"Sentiment: Polarity={sentiment.polarity}, Subjectivity={sentiment.subjectivity}\")"
      ],
      "metadata": {
        "colab": {
          "base_uri": "https://localhost:8080/"
        },
        "id": "0i3uPGhhQkzi",
        "outputId": "b9ac6a30-f31f-493e-b226-c2de47d5e082"
      },
      "execution_count": 11,
      "outputs": [
        {
          "output_type": "stream",
          "name": "stdout",
          "text": [
            "Comment: I love the new product! It exceeded my expectations.\n",
            "Sentiment: Polarity=0.3352272727272727, Subjectivity=0.5272727272727272\n",
            "Comment: The product is good, but the price is too high.\n",
            "Sentiment: Polarity=0.43, Subjectivity=0.5700000000000001\n",
            "Comment: Customer service was terrible.\n",
            "Sentiment: Polarity=-1.0, Subjectivity=1.0\n",
            "Comment: Delivery was fast, but the product was poorly packaged.\n",
            "Sentiment: Polarity=-0.1, Subjectivity=0.6\n"
          ]
        }
      ]
    },
    {
      "cell_type": "markdown",
      "source": [
        "## **Example with spaCy:**\n",
        "The spaCy library is more robust and is widely used in advanced natural language processing tasks, including sentiment analysis. Sentiment analysis in spaCy can be performed by integrating pre-trained models or using extensions such as spaCyTextBlob."
      ],
      "metadata": {
        "id": "nLCQNbljTlly"
      }
    },
    {
      "cell_type": "code",
      "source": [
        "# Loading the spaCy model:\n",
        "nlp = spacy.load(\"en_core_web_sm\")\n",
        "\n",
        "# Adding the TextBlob extension to spaCy:\n",
        "nlp.add_pipe(\"spacytextblob\")\n",
        "\n",
        "# Text examples for analysis:\n",
        "texts = [\n",
        "    \"The customer service was excellent, I am very satisfied.\",\n",
        "    \"The product did not meet my expectations, very disappointed.\",\n",
        "    \"Shipping was fast but the product quality is terrible.\"\n",
        "]"
      ],
      "metadata": {
        "id": "RF5tRjdyRNUE"
      },
      "execution_count": 13,
      "outputs": []
    },
    {
      "cell_type": "code",
      "source": [
        "# Analysing the sentiments with spaCy and TextBlob:\n",
        "for text in texts:\n",
        "    doc = nlp(text)\n",
        "    sentimento = doc._.blob.polarity\n",
        "    print(f\" Text: {text}\")\n",
        "    print(f\"Sentiment: Polarity={sentiment}\")"
      ],
      "metadata": {
        "colab": {
          "base_uri": "https://localhost:8080/"
        },
        "id": "GKi5UfWYTtFK",
        "outputId": "a1a765ae-d286-4760-f47d-31cbd57ed0ee"
      },
      "execution_count": 15,
      "outputs": [
        {
          "output_type": "stream",
          "name": "stdout",
          "text": [
            " Text: The customer service was excellent, I am very satisfied.\n",
            "Sentiment: Polarity=Sentiment(polarity=-0.1, subjectivity=0.6)\n",
            " Text: The product did not meet my expectations, very disappointed.\n",
            "Sentiment: Polarity=Sentiment(polarity=-0.1, subjectivity=0.6)\n",
            " Text: Shipping was fast but the product quality is terrible.\n",
            "Sentiment: Polarity=Sentiment(polarity=-0.1, subjectivity=0.6)\n"
          ]
        }
      ]
    },
    {
      "cell_type": "markdown",
      "source": [
        "## **Application of Sentiment Analysis in Business**\n",
        "The example below shows the practical application of sentiment analysis in businesses, focusing on segmentation of customers and using Python's Sentiment Intensity Analyzer library. The library VADER (Valence Aware Dictionary and Sentiment Reasoner) is used to create sentiment analysis inputs, which are processed using a series of dictionary rules. Also, textual data is inputted and the analyzer calculates the emotional polarity of each text, classifying them as positive, negative, or neutral."
      ],
      "metadata": {
        "id": "ixUh2g3DTvnf"
      }
    },
    {
      "cell_type": "code",
      "source": [
        "# Creating the instance of the sentiment analyzer:\n",
        "analyzer = SentimentIntensityAnalyzer()\n",
        "\n",
        "# Comments for analysis:\n",
        "comments = [\n",
        "    \"I love the new product! It exceeded my expectations.\",\n",
        "    \"The product is good, but the price is too high.\",\n",
        "    \"Customer service was terrible.\",\n",
        "    \"Delivery was fast, but the product was not well packaged.\"\n",
        "]"
      ],
      "metadata": {
        "id": "3tHWT9R4RNdh"
      },
      "execution_count": 16,
      "outputs": []
    },
    {
      "cell_type": "code",
      "source": [
        "# Analysing each comment:\n",
        "for comment in comments:\n",
        "  punctuation = analyzer.polarity_scores(comment)\n",
        "  print(f\"Comment: {comment}\")\n",
        "  print(f\"Punctuation: {punctuation}\")"
      ],
      "metadata": {
        "colab": {
          "base_uri": "https://localhost:8080/"
        },
        "id": "NoGwzCJ3R1nO",
        "outputId": "1a6df8af-d268-4cd0-e40a-b6a767cac1c9"
      },
      "execution_count": 17,
      "outputs": [
        {
          "output_type": "stream",
          "name": "stdout",
          "text": [
            "Comment: I love the new product! It exceeded my expectations.\n",
            "Punctuation: {'neg': 0.0, 'neu': 0.64, 'pos': 0.36, 'compound': 0.6696}\n",
            "Comment: The product is good, but the price is too high.\n",
            "Punctuation: {'neg': 0.0, 'neu': 0.822, 'pos': 0.178, 'compound': 0.2382}\n",
            "Comment: Customer service was terrible.\n",
            "Punctuation: {'neg': 0.508, 'neu': 0.492, 'pos': 0.0, 'compound': -0.4767}\n",
            "Comment: Delivery was fast, but the product was not well packaged.\n",
            "Punctuation: {'neg': 0.198, 'neu': 0.802, 'pos': 0.0, 'compound': -0.3007}\n"
          ]
        }
      ]
    }
  ]
}