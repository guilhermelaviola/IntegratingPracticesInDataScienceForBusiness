{
  "nbformat": 4,
  "nbformat_minor": 0,
  "metadata": {
    "colab": {
      "provenance": [],
      "authorship_tag": "ABX9TyNUWz7sNT9uuvwAkPEni0Do",
      "include_colab_link": true
    },
    "kernelspec": {
      "name": "python3",
      "display_name": "Python 3"
    },
    "language_info": {
      "name": "python"
    }
  },
  "cells": [
    {
      "cell_type": "markdown",
      "metadata": {
        "id": "view-in-github",
        "colab_type": "text"
      },
      "source": [
        "<a href=\"https://colab.research.google.com/github/guilhermelaviola/IntegratingPracticesInDataScienceForBusiness/blob/main/Class11.ipynb\" target=\"_parent\"><img src=\"https://colab.research.google.com/assets/colab-badge.svg\" alt=\"Open In Colab\"/></a>"
      ]
    },
    {
      "cell_type": "markdown",
      "source": [
        "# **Sentiment Analysis**\n",
        "Sentiment analysis is a crucial tool for identifying customer sentiment regarding products and services. By using phrases posted online, whether on social media or through web scraping, we can mine texts and use sentiment analysis algorithms to determine whether the content expresses positive, negative, or neutral sentiment. This process allows for a more automated understanding of customer behavior."
      ],
      "metadata": {
        "id": "VFDqTHnzhOn-"
      }
    },
    {
      "cell_type": "code",
      "metadata": {
        "colab": {
          "base_uri": "https://localhost:8080/"
        },
        "id": "53acbb7f",
        "outputId": "3fb70069-c94b-42e5-b59f-c2e685b0974c"
      },
      "source": [
        "%pip install spacytextblob"
      ],
      "execution_count": 3,
      "outputs": [
        {
          "output_type": "stream",
          "name": "stdout",
          "text": [
            "Collecting spacytextblob\n",
            "  Downloading spacytextblob-5.0.0-py3-none-any.whl.metadata (4.8 kB)\n",
            "Requirement already satisfied: spacy>=3.0.0 in /usr/local/lib/python3.11/dist-packages (from spacytextblob) (3.8.7)\n",
            "Requirement already satisfied: textblob>=0.18.0.post0 in /usr/local/lib/python3.11/dist-packages (from spacytextblob) (0.19.0)\n",
            "Requirement already satisfied: spacy-legacy<3.1.0,>=3.0.11 in /usr/local/lib/python3.11/dist-packages (from spacy>=3.0.0->spacytextblob) (3.0.12)\n",
            "Requirement already satisfied: spacy-loggers<2.0.0,>=1.0.0 in /usr/local/lib/python3.11/dist-packages (from spacy>=3.0.0->spacytextblob) (1.0.5)\n",
            "Requirement already satisfied: murmurhash<1.1.0,>=0.28.0 in /usr/local/lib/python3.11/dist-packages (from spacy>=3.0.0->spacytextblob) (1.0.13)\n",
            "Requirement already satisfied: cymem<2.1.0,>=2.0.2 in /usr/local/lib/python3.11/dist-packages (from spacy>=3.0.0->spacytextblob) (2.0.11)\n",
            "Requirement already satisfied: preshed<3.1.0,>=3.0.2 in /usr/local/lib/python3.11/dist-packages (from spacy>=3.0.0->spacytextblob) (3.0.10)\n",
            "Requirement already satisfied: thinc<8.4.0,>=8.3.4 in /usr/local/lib/python3.11/dist-packages (from spacy>=3.0.0->spacytextblob) (8.3.6)\n",
            "Requirement already satisfied: wasabi<1.2.0,>=0.9.1 in /usr/local/lib/python3.11/dist-packages (from spacy>=3.0.0->spacytextblob) (1.1.3)\n",
            "Requirement already satisfied: srsly<3.0.0,>=2.4.3 in /usr/local/lib/python3.11/dist-packages (from spacy>=3.0.0->spacytextblob) (2.5.1)\n",
            "Requirement already satisfied: catalogue<2.1.0,>=2.0.6 in /usr/local/lib/python3.11/dist-packages (from spacy>=3.0.0->spacytextblob) (2.0.10)\n",
            "Requirement already satisfied: weasel<0.5.0,>=0.1.0 in /usr/local/lib/python3.11/dist-packages (from spacy>=3.0.0->spacytextblob) (0.4.1)\n",
            "Requirement already satisfied: typer<1.0.0,>=0.3.0 in /usr/local/lib/python3.11/dist-packages (from spacy>=3.0.0->spacytextblob) (0.16.0)\n",
            "Requirement already satisfied: tqdm<5.0.0,>=4.38.0 in /usr/local/lib/python3.11/dist-packages (from spacy>=3.0.0->spacytextblob) (4.67.1)\n",
            "Requirement already satisfied: numpy>=1.19.0 in /usr/local/lib/python3.11/dist-packages (from spacy>=3.0.0->spacytextblob) (2.0.2)\n",
            "Requirement already satisfied: requests<3.0.0,>=2.13.0 in /usr/local/lib/python3.11/dist-packages (from spacy>=3.0.0->spacytextblob) (2.32.3)\n",
            "Requirement already satisfied: pydantic!=1.8,!=1.8.1,<3.0.0,>=1.7.4 in /usr/local/lib/python3.11/dist-packages (from spacy>=3.0.0->spacytextblob) (2.11.7)\n",
            "Requirement already satisfied: jinja2 in /usr/local/lib/python3.11/dist-packages (from spacy>=3.0.0->spacytextblob) (3.1.6)\n",
            "Requirement already satisfied: setuptools in /usr/local/lib/python3.11/dist-packages (from spacy>=3.0.0->spacytextblob) (75.2.0)\n",
            "Requirement already satisfied: packaging>=20.0 in /usr/local/lib/python3.11/dist-packages (from spacy>=3.0.0->spacytextblob) (25.0)\n",
            "Requirement already satisfied: langcodes<4.0.0,>=3.2.0 in /usr/local/lib/python3.11/dist-packages (from spacy>=3.0.0->spacytextblob) (3.5.0)\n",
            "Requirement already satisfied: nltk>=3.9 in /usr/local/lib/python3.11/dist-packages (from textblob>=0.18.0.post0->spacytextblob) (3.9.1)\n",
            "Requirement already satisfied: language-data>=1.2 in /usr/local/lib/python3.11/dist-packages (from langcodes<4.0.0,>=3.2.0->spacy>=3.0.0->spacytextblob) (1.3.0)\n",
            "Requirement already satisfied: click in /usr/local/lib/python3.11/dist-packages (from nltk>=3.9->textblob>=0.18.0.post0->spacytextblob) (8.2.1)\n",
            "Requirement already satisfied: joblib in /usr/local/lib/python3.11/dist-packages (from nltk>=3.9->textblob>=0.18.0.post0->spacytextblob) (1.5.1)\n",
            "Requirement already satisfied: regex>=2021.8.3 in /usr/local/lib/python3.11/dist-packages (from nltk>=3.9->textblob>=0.18.0.post0->spacytextblob) (2024.11.6)\n",
            "Requirement already satisfied: annotated-types>=0.6.0 in /usr/local/lib/python3.11/dist-packages (from pydantic!=1.8,!=1.8.1,<3.0.0,>=1.7.4->spacy>=3.0.0->spacytextblob) (0.7.0)\n",
            "Requirement already satisfied: pydantic-core==2.33.2 in /usr/local/lib/python3.11/dist-packages (from pydantic!=1.8,!=1.8.1,<3.0.0,>=1.7.4->spacy>=3.0.0->spacytextblob) (2.33.2)\n",
            "Requirement already satisfied: typing-extensions>=4.12.2 in /usr/local/lib/python3.11/dist-packages (from pydantic!=1.8,!=1.8.1,<3.0.0,>=1.7.4->spacy>=3.0.0->spacytextblob) (4.14.1)\n",
            "Requirement already satisfied: typing-inspection>=0.4.0 in /usr/local/lib/python3.11/dist-packages (from pydantic!=1.8,!=1.8.1,<3.0.0,>=1.7.4->spacy>=3.0.0->spacytextblob) (0.4.1)\n",
            "Requirement already satisfied: charset-normalizer<4,>=2 in /usr/local/lib/python3.11/dist-packages (from requests<3.0.0,>=2.13.0->spacy>=3.0.0->spacytextblob) (3.4.2)\n",
            "Requirement already satisfied: idna<4,>=2.5 in /usr/local/lib/python3.11/dist-packages (from requests<3.0.0,>=2.13.0->spacy>=3.0.0->spacytextblob) (3.10)\n",
            "Requirement already satisfied: urllib3<3,>=1.21.1 in /usr/local/lib/python3.11/dist-packages (from requests<3.0.0,>=2.13.0->spacy>=3.0.0->spacytextblob) (2.4.0)\n",
            "Requirement already satisfied: certifi>=2017.4.17 in /usr/local/lib/python3.11/dist-packages (from requests<3.0.0,>=2.13.0->spacy>=3.0.0->spacytextblob) (2025.7.14)\n",
            "Requirement already satisfied: blis<1.4.0,>=1.3.0 in /usr/local/lib/python3.11/dist-packages (from thinc<8.4.0,>=8.3.4->spacy>=3.0.0->spacytextblob) (1.3.0)\n",
            "Requirement already satisfied: confection<1.0.0,>=0.0.1 in /usr/local/lib/python3.11/dist-packages (from thinc<8.4.0,>=8.3.4->spacy>=3.0.0->spacytextblob) (0.1.5)\n",
            "Requirement already satisfied: shellingham>=1.3.0 in /usr/local/lib/python3.11/dist-packages (from typer<1.0.0,>=0.3.0->spacy>=3.0.0->spacytextblob) (1.5.4)\n",
            "Requirement already satisfied: rich>=10.11.0 in /usr/local/lib/python3.11/dist-packages (from typer<1.0.0,>=0.3.0->spacy>=3.0.0->spacytextblob) (13.9.4)\n",
            "Requirement already satisfied: cloudpathlib<1.0.0,>=0.7.0 in /usr/local/lib/python3.11/dist-packages (from weasel<0.5.0,>=0.1.0->spacy>=3.0.0->spacytextblob) (0.21.1)\n",
            "Requirement already satisfied: smart-open<8.0.0,>=5.2.1 in /usr/local/lib/python3.11/dist-packages (from weasel<0.5.0,>=0.1.0->spacy>=3.0.0->spacytextblob) (7.3.0.post1)\n",
            "Requirement already satisfied: MarkupSafe>=2.0 in /usr/local/lib/python3.11/dist-packages (from jinja2->spacy>=3.0.0->spacytextblob) (3.0.2)\n",
            "Requirement already satisfied: marisa-trie>=1.1.0 in /usr/local/lib/python3.11/dist-packages (from language-data>=1.2->langcodes<4.0.0,>=3.2.0->spacy>=3.0.0->spacytextblob) (1.2.1)\n",
            "Requirement already satisfied: markdown-it-py>=2.2.0 in /usr/local/lib/python3.11/dist-packages (from rich>=10.11.0->typer<1.0.0,>=0.3.0->spacy>=3.0.0->spacytextblob) (3.0.0)\n",
            "Requirement already satisfied: pygments<3.0.0,>=2.13.0 in /usr/local/lib/python3.11/dist-packages (from rich>=10.11.0->typer<1.0.0,>=0.3.0->spacy>=3.0.0->spacytextblob) (2.19.2)\n",
            "Requirement already satisfied: wrapt in /usr/local/lib/python3.11/dist-packages (from smart-open<8.0.0,>=5.2.1->weasel<0.5.0,>=0.1.0->spacy>=3.0.0->spacytextblob) (1.17.2)\n",
            "Requirement already satisfied: mdurl~=0.1 in /usr/local/lib/python3.11/dist-packages (from markdown-it-py>=2.2.0->rich>=10.11.0->typer<1.0.0,>=0.3.0->spacy>=3.0.0->spacytextblob) (0.1.2)\n",
            "Downloading spacytextblob-5.0.0-py3-none-any.whl (4.2 kB)\n",
            "Installing collected packages: spacytextblob\n",
            "Successfully installed spacytextblob-5.0.0\n"
          ]
        }
      ]
    },
    {
      "cell_type": "code",
      "metadata": {
        "colab": {
          "base_uri": "https://localhost:8080/"
        },
        "id": "35e9d8a7",
        "outputId": "50725521-d1ea-4053-fd4a-2ad14cdaae95"
      },
      "source": [
        "%pip install vaderSentiment"
      ],
      "execution_count": 5,
      "outputs": [
        {
          "output_type": "stream",
          "name": "stdout",
          "text": [
            "Collecting vaderSentiment\n",
            "  Downloading vaderSentiment-3.3.2-py2.py3-none-any.whl.metadata (572 bytes)\n",
            "Requirement already satisfied: requests in /usr/local/lib/python3.11/dist-packages (from vaderSentiment) (2.32.3)\n",
            "Requirement already satisfied: charset-normalizer<4,>=2 in /usr/local/lib/python3.11/dist-packages (from requests->vaderSentiment) (3.4.2)\n",
            "Requirement already satisfied: idna<4,>=2.5 in /usr/local/lib/python3.11/dist-packages (from requests->vaderSentiment) (3.10)\n",
            "Requirement already satisfied: urllib3<3,>=1.21.1 in /usr/local/lib/python3.11/dist-packages (from requests->vaderSentiment) (2.4.0)\n",
            "Requirement already satisfied: certifi>=2017.4.17 in /usr/local/lib/python3.11/dist-packages (from requests->vaderSentiment) (2025.7.14)\n",
            "Downloading vaderSentiment-3.3.2-py2.py3-none-any.whl (125 kB)\n",
            "\u001b[2K   \u001b[90m━━━━━━━━━━━━━━━━━━━━━━━━━━━━━━━━━━━━━━━━\u001b[0m \u001b[32m126.0/126.0 kB\u001b[0m \u001b[31m2.2 MB/s\u001b[0m eta \u001b[36m0:00:00\u001b[0m\n",
            "\u001b[?25hInstalling collected packages: vaderSentiment\n",
            "Successfully installed vaderSentiment-3.3.2\n"
          ]
        }
      ]
    },
    {
      "cell_type": "code",
      "source": [
        "# Importing all the necessary libraries:\n",
        "from textblob import TextBlob\n",
        "import spacy\n",
        "from spacytextblob.spacytextblob import SpacyTextBlob\n",
        "from vaderSentiment.vaderSentiment import SentimentIntensityAnalyzer"
      ],
      "metadata": {
        "id": "4D-aoEuoc6P7"
      },
      "execution_count": 8,
      "outputs": []
    },
    {
      "cell_type": "markdown",
      "source": [
        "## **Example with TextBlob**\n",
        "Let's explore how the TextBlob library can be used for sentiment analysis with a practical example. TextBlob is a simple and easy-to-use library for processing textual data. It offers features such as sentiment analysis, translation, and grammar correction."
      ],
      "metadata": {
        "id": "NJ3mnOPIhn7h"
      }
    },
    {
      "cell_type": "code",
      "execution_count": 9,
      "metadata": {
        "colab": {
          "base_uri": "https://localhost:8080/"
        },
        "id": "jDOIQlYhciNx",
        "outputId": "8d9c01fc-b989-4d13-f703-aa9e09c270c1"
      },
      "outputs": [
        {
          "output_type": "stream",
          "name": "stdout",
          "text": [
            "Text: I love this product! It's wonderful.\n",
            "Sentiment: Polarity=0.8125, Subjectivity=0.8\n",
            "Text: This product is horrible. I don't recommend it.\n",
            "Sentiment: Polarity=-1.0, Subjectivity=1.0\n",
            "Text: I'm dissatisfied with the service.\n",
            "Sentiment: Polarity=0.0, Subjectivity=0.0\n",
            "Text: Delivery was fast, but the product arrived damaged.\n",
            "Sentiment: Polarity=0.2, Subjectivity=0.6\n"
          ]
        }
      ],
      "source": [
        "# Text examples for analysis:\n",
        "texts = [\n",
        "    \"I love this product! It's wonderful.\",\n",
        "    \"This product is horrible. I don't recommend it.\",\n",
        "    \"I'm dissatisfied with the service.\",\n",
        "    \"Delivery was fast, but the product arrived damaged.\"\n",
        "]\n",
        "\n",
        "# Analysing sentiments with TextBlob:\n",
        "for text in texts:\n",
        "  blob = TextBlob(text)\n",
        "  sentiment = blob.sentiment\n",
        "  print(f\"Text: {text}\")\n",
        "  print(f\"Sentiment: Polarity={sentiment.polarity}, Subjectivity={sentiment.subjectivity}\")"
      ]
    },
    {
      "cell_type": "markdown",
      "source": [
        "## **Example with spaCy**\n",
        "The spaCy library is more robust and is widely used in advanced natural language processing tasks, including sentiment analysis. Sentiment analysis in spaCy can be performed by integrating pre-trained models or using extensions such as spaCyTextBlob."
      ],
      "metadata": {
        "id": "i0Spe26Vh6LL"
      }
    },
    {
      "cell_type": "code",
      "source": [
        "# Loading the spaCy model:\n",
        "nlp = spacy.load(\"en_core_web_sm\")\n",
        "\n",
        "# Adding the TextBlob extension to spaCy:\n",
        "nlp.add_pipe(\"spacytextblob\")\n",
        "\n",
        "# Text examples for analysis:\n",
        "texts = [\n",
        "    \"The customer service was excellent, I am very satisfied.\",\n",
        "    \"The product did not meet my expectations, very disappointed.\",\n",
        "    \"Shipping was fast but the product quality is terrible.\"\n",
        "]\n",
        "\n",
        "# Analysing sentiments with spaCy and TextBlob:\n",
        "for text in texts:\n",
        "  doc = nlp(text)\n",
        "  sentiment = doc._.blob.polarity\n",
        "  print(f\" Text: {text}\")\n",
        "  print(f\"Sentiment: Polarity={sentiment}\")"
      ],
      "metadata": {
        "colab": {
          "base_uri": "https://localhost:8080/"
        },
        "id": "9iSOyAeDds_O",
        "outputId": "49d72935-6bdd-4d7b-acbd-0fd343923d29"
      },
      "execution_count": 10,
      "outputs": [
        {
          "output_type": "stream",
          "name": "stdout",
          "text": [
            " Text: The customer service was excellent, I am very satisfied.\n",
            "Sentiment: Polarity=0.825\n",
            " Text: The product did not meet my expectations, very disappointed.\n",
            "Sentiment: Polarity=-0.9750000000000001\n",
            " Text: Shipping was fast but the product quality is terrible.\n",
            "Sentiment: Polarity=-0.4\n"
          ]
        }
      ]
    },
    {
      "cell_type": "markdown",
      "source": [
        "## **Application of Sentiment Analysis in Business**\n",
        "This text explores the practical application of sentiment analysis in business, focusing on customer segmentation. It uses a Python library called Sentiment Intensity Analyzer to understand basic concepts. The VADER library, which includes dictionaries, is used to create instances of a sentiment analyzer. The analyzer calculates the emotional polarity of texts, classifying them as positive, negative, or neutral. The accuracy of this analysis depends on the quality and comprehensiveness of the sentiment dictionary used. The text provides an example of how sentiment analysis can be used for customer segmentation."
      ],
      "metadata": {
        "id": "z9tTYdC7iOWT"
      }
    },
    {
      "cell_type": "code",
      "source": [
        "# Instantiating the Sentiment Analyzer:\n",
        "analyzer = SentimentIntensityAnalyzer()\n",
        "\n",
        "# Texts for analysis:\n",
        "texts = [\n",
        "    \"I'm happy with the new product\",\n",
        "    \"The customer service was terrible\",\n",
        "    \"The delivery was late, I'm dissatisfied\",\n",
        "    \"I love the quality of the products, but the price is high.\"\n",
        "]\n",
        "\n",
        "# Analysing each text:\n",
        "for text in texts:\n",
        "  punctuation = analyzer.polarity_scores(text)\n",
        "  print(f\"Text: {text}\")\n",
        "  print(f\"Punctuation: {punctuation}\")"
      ],
      "metadata": {
        "colab": {
          "base_uri": "https://localhost:8080/"
        },
        "id": "_mb42d0Xe2BL",
        "outputId": "1c450aa2-718e-4b69-b48e-54138a4c6f7c"
      },
      "execution_count": 12,
      "outputs": [
        {
          "output_type": "stream",
          "name": "stdout",
          "text": [
            "Text: I'm happy with the new product\n",
            "Punctuation: {'neg': 0.0, 'neu': 0.575, 'pos': 0.425, 'compound': 0.5719}\n",
            "Text: The customer service was terrible\n",
            "Punctuation: {'neg': 0.437, 'neu': 0.563, 'pos': 0.0, 'compound': -0.4767}\n",
            "Text: The delivery was late, I'm dissatisfied\n",
            "Punctuation: {'neg': 0.342, 'neu': 0.658, 'pos': 0.0, 'compound': -0.3818}\n",
            "Text: I love the quality of the products, but the price is high.\n",
            "Punctuation: {'neg': 0.0, 'neu': 0.809, 'pos': 0.191, 'compound': 0.3818}\n"
          ]
        }
      ]
    }
  ]
}